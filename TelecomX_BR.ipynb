{
 "cells": [
  {
   "cell_type": "markdown",
   "id": "f2c5d01d",
   "metadata": {},
   "source": [
    "# Import e normalize nas colunas"
   ]
  },
  {
   "cell_type": "code",
   "execution_count": 90,
   "id": "6c92e633",
   "metadata": {},
   "outputs": [],
   "source": [
    "import pandas as pd\n",
    "import seaborn as sns\n",
    "import matplotlib.pyplot as plt\n",
    "pd.set_option('display.max_columns', None)\n",
    "\n",
    "url = 'https://raw.githubusercontent.com/ingridcristh/challenge2-data-science/main/TelecomX_Data.json'\n",
    "df = pd.read_json(url)\n",
    "\n",
    "# Normalizando as colunas\n",
    "df_customer = pd.json_normalize(df['customer'])\n",
    "df_phone = pd.json_normalize(df['phone'])\n",
    "df_internet = pd.json_normalize(df['internet'])\n",
    "df_account = pd.json_normalize(df['account'])\n",
    "\n",
    "# Junta tudo em um único DataFrame\n",
    "TelecomX = pd.concat([df.drop(['customer', 'phone', 'internet', 'account'], axis=1),\n",
    "                      df_customer, df_phone, df_internet, df_account], axis=1)"
   ]
  },
  {
   "cell_type": "markdown",
   "id": "bec0a04e",
   "metadata": {},
   "source": [
    "# Conhecendo os dados"
   ]
  },
  {
   "cell_type": "code",
   "execution_count": 106,
   "id": "8ac9a6ba",
   "metadata": {},
   "outputs": [
    {
     "name": "stdout",
     "output_type": "stream",
     "text": [
      "       SeniorCitizen       tenure  Charges.Monthly\n",
      "count    7043.000000  7043.000000      7043.000000\n",
      "mean        0.162147    32.371149        64.761692\n",
      "std         0.368612    24.559481        30.090047\n",
      "min         0.000000     0.000000        18.250000\n",
      "25%         0.000000     9.000000        35.500000\n",
      "50%         0.000000    29.000000        70.350000\n",
      "75%         0.000000    55.000000        89.850000\n",
      "max         1.000000    72.000000       118.750000\n",
      "\n",
      "<class 'pandas.core.frame.DataFrame'>\n",
      "Int64Index: 7043 entries, 0 to 7266\n",
      "Data columns (total 21 columns):\n",
      " #   Column            Non-Null Count  Dtype  \n",
      "---  ------            --------------  -----  \n",
      " 0   customerID        7043 non-null   object \n",
      " 1   Churn             7043 non-null   object \n",
      " 2   gender            7043 non-null   object \n",
      " 3   SeniorCitizen     7043 non-null   int64  \n",
      " 4   Partner           7043 non-null   object \n",
      " 5   Dependents        7043 non-null   object \n",
      " 6   tenure            7043 non-null   int64  \n",
      " 7   PhoneService      7043 non-null   object \n",
      " 8   MultipleLines     7043 non-null   object \n",
      " 9   InternetService   7043 non-null   object \n",
      " 10  OnlineSecurity    7043 non-null   object \n",
      " 11  OnlineBackup      7043 non-null   object \n",
      " 12  DeviceProtection  7043 non-null   object \n",
      " 13  TechSupport       7043 non-null   object \n",
      " 14  StreamingTV       7043 non-null   object \n",
      " 15  StreamingMovies   7043 non-null   object \n",
      " 16  Contract          7043 non-null   object \n",
      " 17  PaperlessBilling  7043 non-null   object \n",
      " 18  PaymentMethod     7043 non-null   object \n",
      " 19  Charges.Monthly   7043 non-null   float64\n",
      " 20  Charges.Total     7043 non-null   object \n",
      "dtypes: float64(1), int64(2), object(18)\n",
      "memory usage: 1.2+ MB\n",
      "None\n",
      "\n"
     ]
    },
    {
     "data": {
      "text/html": [
       "<div>\n",
       "<style scoped>\n",
       "    .dataframe tbody tr th:only-of-type {\n",
       "        vertical-align: middle;\n",
       "    }\n",
       "\n",
       "    .dataframe tbody tr th {\n",
       "        vertical-align: top;\n",
       "    }\n",
       "\n",
       "    .dataframe thead th {\n",
       "        text-align: right;\n",
       "    }\n",
       "</style>\n",
       "<table border=\"1\" class=\"dataframe\">\n",
       "  <thead>\n",
       "    <tr style=\"text-align: right;\">\n",
       "      <th></th>\n",
       "      <th>customerID</th>\n",
       "      <th>Churn</th>\n",
       "      <th>gender</th>\n",
       "      <th>SeniorCitizen</th>\n",
       "      <th>Partner</th>\n",
       "      <th>Dependents</th>\n",
       "      <th>tenure</th>\n",
       "      <th>PhoneService</th>\n",
       "      <th>MultipleLines</th>\n",
       "      <th>InternetService</th>\n",
       "      <th>OnlineSecurity</th>\n",
       "      <th>OnlineBackup</th>\n",
       "      <th>DeviceProtection</th>\n",
       "      <th>TechSupport</th>\n",
       "      <th>StreamingTV</th>\n",
       "      <th>StreamingMovies</th>\n",
       "      <th>Contract</th>\n",
       "      <th>PaperlessBilling</th>\n",
       "      <th>PaymentMethod</th>\n",
       "      <th>Charges.Monthly</th>\n",
       "      <th>Charges.Total</th>\n",
       "    </tr>\n",
       "  </thead>\n",
       "  <tbody>\n",
       "    <tr>\n",
       "      <th>0</th>\n",
       "      <td>0002-ORFBO</td>\n",
       "      <td>No</td>\n",
       "      <td>Female</td>\n",
       "      <td>0</td>\n",
       "      <td>Yes</td>\n",
       "      <td>Yes</td>\n",
       "      <td>9</td>\n",
       "      <td>Yes</td>\n",
       "      <td>No</td>\n",
       "      <td>DSL</td>\n",
       "      <td>No</td>\n",
       "      <td>Yes</td>\n",
       "      <td>No</td>\n",
       "      <td>Yes</td>\n",
       "      <td>Yes</td>\n",
       "      <td>No</td>\n",
       "      <td>One year</td>\n",
       "      <td>Yes</td>\n",
       "      <td>Mailed check</td>\n",
       "      <td>65.6</td>\n",
       "      <td>593.3</td>\n",
       "    </tr>\n",
       "    <tr>\n",
       "      <th>1</th>\n",
       "      <td>0003-MKNFE</td>\n",
       "      <td>No</td>\n",
       "      <td>Male</td>\n",
       "      <td>0</td>\n",
       "      <td>No</td>\n",
       "      <td>No</td>\n",
       "      <td>9</td>\n",
       "      <td>Yes</td>\n",
       "      <td>Yes</td>\n",
       "      <td>DSL</td>\n",
       "      <td>No</td>\n",
       "      <td>No</td>\n",
       "      <td>No</td>\n",
       "      <td>No</td>\n",
       "      <td>No</td>\n",
       "      <td>Yes</td>\n",
       "      <td>Month-to-month</td>\n",
       "      <td>No</td>\n",
       "      <td>Mailed check</td>\n",
       "      <td>59.9</td>\n",
       "      <td>542.4</td>\n",
       "    </tr>\n",
       "    <tr>\n",
       "      <th>2</th>\n",
       "      <td>0004-TLHLJ</td>\n",
       "      <td>Yes</td>\n",
       "      <td>Male</td>\n",
       "      <td>0</td>\n",
       "      <td>No</td>\n",
       "      <td>No</td>\n",
       "      <td>4</td>\n",
       "      <td>Yes</td>\n",
       "      <td>No</td>\n",
       "      <td>Fiber optic</td>\n",
       "      <td>No</td>\n",
       "      <td>No</td>\n",
       "      <td>Yes</td>\n",
       "      <td>No</td>\n",
       "      <td>No</td>\n",
       "      <td>No</td>\n",
       "      <td>Month-to-month</td>\n",
       "      <td>Yes</td>\n",
       "      <td>Electronic check</td>\n",
       "      <td>73.9</td>\n",
       "      <td>280.85</td>\n",
       "    </tr>\n",
       "    <tr>\n",
       "      <th>3</th>\n",
       "      <td>0011-IGKFF</td>\n",
       "      <td>Yes</td>\n",
       "      <td>Male</td>\n",
       "      <td>1</td>\n",
       "      <td>Yes</td>\n",
       "      <td>No</td>\n",
       "      <td>13</td>\n",
       "      <td>Yes</td>\n",
       "      <td>No</td>\n",
       "      <td>Fiber optic</td>\n",
       "      <td>No</td>\n",
       "      <td>Yes</td>\n",
       "      <td>Yes</td>\n",
       "      <td>No</td>\n",
       "      <td>Yes</td>\n",
       "      <td>Yes</td>\n",
       "      <td>Month-to-month</td>\n",
       "      <td>Yes</td>\n",
       "      <td>Electronic check</td>\n",
       "      <td>98.0</td>\n",
       "      <td>1237.85</td>\n",
       "    </tr>\n",
       "    <tr>\n",
       "      <th>4</th>\n",
       "      <td>0013-EXCHZ</td>\n",
       "      <td>Yes</td>\n",
       "      <td>Female</td>\n",
       "      <td>1</td>\n",
       "      <td>Yes</td>\n",
       "      <td>No</td>\n",
       "      <td>3</td>\n",
       "      <td>Yes</td>\n",
       "      <td>No</td>\n",
       "      <td>Fiber optic</td>\n",
       "      <td>No</td>\n",
       "      <td>No</td>\n",
       "      <td>No</td>\n",
       "      <td>Yes</td>\n",
       "      <td>Yes</td>\n",
       "      <td>No</td>\n",
       "      <td>Month-to-month</td>\n",
       "      <td>Yes</td>\n",
       "      <td>Mailed check</td>\n",
       "      <td>83.9</td>\n",
       "      <td>267.4</td>\n",
       "    </tr>\n",
       "  </tbody>\n",
       "</table>\n",
       "</div>"
      ],
      "text/plain": [
       "   customerID Churn  gender  SeniorCitizen Partner Dependents  tenure  \\\n",
       "0  0002-ORFBO    No  Female              0     Yes        Yes       9   \n",
       "1  0003-MKNFE    No    Male              0      No         No       9   \n",
       "2  0004-TLHLJ   Yes    Male              0      No         No       4   \n",
       "3  0011-IGKFF   Yes    Male              1     Yes         No      13   \n",
       "4  0013-EXCHZ   Yes  Female              1     Yes         No       3   \n",
       "\n",
       "  PhoneService MultipleLines InternetService OnlineSecurity OnlineBackup  \\\n",
       "0          Yes            No             DSL             No          Yes   \n",
       "1          Yes           Yes             DSL             No           No   \n",
       "2          Yes            No     Fiber optic             No           No   \n",
       "3          Yes            No     Fiber optic             No          Yes   \n",
       "4          Yes            No     Fiber optic             No           No   \n",
       "\n",
       "  DeviceProtection TechSupport StreamingTV StreamingMovies        Contract  \\\n",
       "0               No         Yes         Yes              No        One year   \n",
       "1               No          No          No             Yes  Month-to-month   \n",
       "2              Yes          No          No              No  Month-to-month   \n",
       "3              Yes          No         Yes             Yes  Month-to-month   \n",
       "4               No         Yes         Yes              No  Month-to-month   \n",
       "\n",
       "  PaperlessBilling     PaymentMethod  Charges.Monthly Charges.Total  \n",
       "0              Yes      Mailed check             65.6         593.3  \n",
       "1               No      Mailed check             59.9         542.4  \n",
       "2              Yes  Electronic check             73.9        280.85  \n",
       "3              Yes  Electronic check             98.0       1237.85  \n",
       "4              Yes      Mailed check             83.9         267.4  "
      ]
     },
     "execution_count": 106,
     "metadata": {},
     "output_type": "execute_result"
    }
   ],
   "source": [
    "# Estatísticas descritivas para variáveis numéricas\n",
    "print(TelecomX.describe())\n",
    "print()\n",
    "print(TelecomX.info())\n",
    "print()\n",
    "TelecomX.head()"
   ]
  },
  {
   "cell_type": "code",
   "execution_count": 94,
   "id": "2546842f",
   "metadata": {},
   "outputs": [
    {
     "name": "stdout",
     "output_type": "stream",
     "text": [
      "customerID          0\n",
      "Churn               0\n",
      "gender              0\n",
      "SeniorCitizen       0\n",
      "Partner             0\n",
      "Dependents          0\n",
      "tenure              0\n",
      "PhoneService        0\n",
      "MultipleLines       0\n",
      "InternetService     0\n",
      "OnlineSecurity      0\n",
      "OnlineBackup        0\n",
      "DeviceProtection    0\n",
      "TechSupport         0\n",
      "StreamingTV         0\n",
      "StreamingMovies     0\n",
      "Contract            0\n",
      "PaperlessBilling    0\n",
      "PaymentMethod       0\n",
      "Charges.Monthly     0\n",
      "Charges.Total       0\n",
      "dtype: int64\n"
     ]
    }
   ],
   "source": [
    "#não tem linhas duplicadas\n",
    "duplicadas = TelecomX[TelecomX.duplicated()]\n",
    "\n",
    "# Verificando a quantidade de valores nulos por coluna\n",
    "print(TelecomX.isna().sum())"
   ]
  },
  {
   "cell_type": "code",
   "execution_count": 95,
   "id": "53f18b20",
   "metadata": {},
   "outputs": [
    {
     "name": "stdout",
     "output_type": "stream",
     "text": [
      "Valores unicos da coluna\n",
      "['No' 'Yes' '']\n",
      "\n",
      "Soma dos valores unicos\n",
      "No     5174\n",
      "Yes    1869\n",
      "        224\n",
      "Name: Churn, dtype: int64\n",
      "\n",
      "Verificando colunas com erros \"\" \n",
      "customerID            0\n",
      "Churn               224\n",
      "gender                0\n",
      "SeniorCitizen         0\n",
      "Partner               0\n",
      "Dependents            0\n",
      "tenure                0\n",
      "PhoneService          0\n",
      "MultipleLines         0\n",
      "InternetService       0\n",
      "OnlineSecurity        0\n",
      "OnlineBackup          0\n",
      "DeviceProtection      0\n",
      "TechSupport           0\n",
      "StreamingTV           0\n",
      "StreamingMovies       0\n",
      "Contract              0\n",
      "PaperlessBilling      0\n",
      "PaymentMethod         0\n",
      "Charges.Monthly       0\n",
      "Charges.Total         0\n",
      "dtype: int64\n"
     ]
    }
   ],
   "source": [
    "print('Valores unicos da coluna')\n",
    "print(TelecomX['Churn'].unique())\n",
    "print()\n",
    "print('Soma dos valores unicos')\n",
    "print(TelecomX['Churn'].value_counts())\n",
    "print()\n",
    "print('Verificando colunas com erros \"\" ')\n",
    "print((TelecomX == '').sum())"
   ]
  },
  {
   "cell_type": "code",
   "execution_count": 96,
   "id": "7e4eb654",
   "metadata": {},
   "outputs": [
    {
     "name": "stdout",
     "output_type": "stream",
     "text": [
      "['Yes' 'No' 'No internet service']\n",
      "\n",
      "No                     2896\n",
      "Yes                    2790\n",
      "No internet service    1581\n",
      "Name: StreamingTV, dtype: int64\n",
      "\n",
      "['No' 'Yes' 'No internet service']\n",
      "\n",
      "No                     3608\n",
      "Yes                    2078\n",
      "No internet service    1581\n",
      "Name: OnlineSecurity, dtype: int64\n",
      "\n",
      "['Yes' 'No' 'No internet service']\n",
      "\n",
      "No                     3182\n",
      "Yes                    2504\n",
      "No internet service    1581\n",
      "Name: OnlineBackup, dtype: int64\n",
      "\n",
      "['No' 'Yes' 'No internet service']\n",
      "\n",
      "No                     3195\n",
      "Yes                    2491\n",
      "No internet service    1581\n",
      "Name: DeviceProtection, dtype: int64\n",
      "\n",
      "['Yes' 'No' 'No internet service']\n",
      "\n",
      "No                     3582\n",
      "Yes                    2104\n",
      "No internet service    1581\n",
      "Name: TechSupport, dtype: int64\n",
      "\n",
      "['Yes' 'No' 'No internet service']\n",
      "\n",
      "No                     2896\n",
      "Yes                    2790\n",
      "No internet service    1581\n",
      "Name: StreamingTV, dtype: int64\n",
      "\n",
      "['No' 'Yes' 'No internet service']\n",
      "\n",
      "No                     2870\n",
      "Yes                    2816\n",
      "No internet service    1581\n",
      "Name: StreamingMovies, dtype: int64\n"
     ]
    }
   ],
   "source": [
    "print(TelecomX['StreamingTV'].unique())\n",
    "print()\n",
    "print(TelecomX['StreamingTV'].value_counts())\n",
    "print()\n",
    "print(TelecomX['OnlineSecurity'].unique())\n",
    "print()\n",
    "print(TelecomX['OnlineSecurity'].value_counts())\n",
    "print()\n",
    "print(TelecomX['OnlineBackup'].unique())\n",
    "print()\n",
    "print(TelecomX['OnlineBackup'].value_counts())\n",
    "print()\n",
    "print(TelecomX['DeviceProtection'].unique())\n",
    "print()\n",
    "print(TelecomX['DeviceProtection'].value_counts())\n",
    "print()\n",
    "print(TelecomX['TechSupport'].unique())\n",
    "print()\n",
    "print(TelecomX['TechSupport'].value_counts())\n",
    "print()\n",
    "print(TelecomX['StreamingTV'].unique())\n",
    "print()\n",
    "print(TelecomX['StreamingTV'].value_counts())\n",
    "print()\n",
    "print(TelecomX['StreamingMovies'].unique())\n",
    "print()\n",
    "print(TelecomX['StreamingMovies'].value_counts())"
   ]
  },
  {
   "cell_type": "markdown",
   "id": "2b0f21e8",
   "metadata": {},
   "source": [
    "# TRATAMENTO DOS DADOS"
   ]
  },
  {
   "cell_type": "code",
   "execution_count": 97,
   "id": "3784189e",
   "metadata": {},
   "outputs": [],
   "source": [
    "#Filtro para excluir as linhas sem dados na coluna Churn\n",
    "TelecomX = TelecomX[TelecomX['Churn'] != '']"
   ]
  },
  {
   "cell_type": "markdown",
   "id": "10a7cfdd",
   "metadata": {},
   "source": [
    "Durante a análise, identifiquei 224 linhas com valores vazios ('') na coluna Churn. Ao examinar essas linhas, não foi possível encontrar um padrão específico que justificasse a ausência desses dados. Devido à falta de documentação do dataset, também não é possível entender claramente o motivo pelo qual essas informações estão ausentes. Como essas 224 entradas representam apenas cerca de 3% do total, optei por excluí-las para evitar impactos negativos em análises futuras."
   ]
  },
  {
   "cell_type": "code",
   "execution_count": 42,
   "id": "2107ab9b",
   "metadata": {},
   "outputs": [],
   "source": [
    "#Transformando colunas em binárias\n",
    "cols_binarias = ['Dependents', 'OnlineSecurity', 'OnlineBackup', 'DeviceProtection', \n",
    "                 'TechSupport', 'StreamingTV', 'StreamingMovies', \n",
    "                 'PaperlessBilling', 'Churn', 'MultipleLines', 'PhoneService', 'Partner']\n",
    "\n",
    "for col in cols_binarias:\n",
    "    TelecomX[col] = TelecomX[col].replace({\n",
    "        'Yes': 1, \n",
    "        'No': 0, \n",
    "        'No internet service': 0,\n",
    "        'No phone service': 0\n",
    "    }).astype('Int64') \n"
   ]
  },
  {
   "cell_type": "markdown",
   "id": "824aa490",
   "metadata": {},
   "source": [
    "Observei que algumas colunas seriam mais úteis para a análise se fossem transformadas em colunas binárias. Para realizar esse tratamento, considerei importante alterar os valores \"No internet service\" e \"No phone service\" para \"No\", pois, como esses usuários não possuem os serviços, o mais adequado é representá-los como \"No\", facilitando a análise e a transformação dos dados."
   ]
  },
  {
   "cell_type": "code",
   "execution_count": 43,
   "id": "c9f05264",
   "metadata": {},
   "outputs": [
    {
     "data": {
      "text/html": [
       "<div>\n",
       "<style scoped>\n",
       "    .dataframe tbody tr th:only-of-type {\n",
       "        vertical-align: middle;\n",
       "    }\n",
       "\n",
       "    .dataframe tbody tr th {\n",
       "        vertical-align: top;\n",
       "    }\n",
       "\n",
       "    .dataframe thead th {\n",
       "        text-align: right;\n",
       "    }\n",
       "</style>\n",
       "<table border=\"1\" class=\"dataframe\">\n",
       "  <thead>\n",
       "    <tr style=\"text-align: right;\">\n",
       "      <th></th>\n",
       "      <th>customerID</th>\n",
       "      <th>Churn</th>\n",
       "      <th>gender</th>\n",
       "      <th>SeniorCitizen</th>\n",
       "      <th>Partner</th>\n",
       "      <th>Dependents</th>\n",
       "      <th>tenure</th>\n",
       "      <th>PhoneService</th>\n",
       "      <th>MultipleLines</th>\n",
       "      <th>InternetService</th>\n",
       "      <th>OnlineSecurity</th>\n",
       "      <th>OnlineBackup</th>\n",
       "      <th>DeviceProtection</th>\n",
       "      <th>TechSupport</th>\n",
       "      <th>StreamingTV</th>\n",
       "      <th>StreamingMovies</th>\n",
       "      <th>Contract</th>\n",
       "      <th>PaperlessBilling</th>\n",
       "      <th>PaymentMethod</th>\n",
       "      <th>Charges.Monthly</th>\n",
       "      <th>Charges.Total</th>\n",
       "    </tr>\n",
       "  </thead>\n",
       "  <tbody>\n",
       "    <tr>\n",
       "      <th>0</th>\n",
       "      <td>0002-ORFBO</td>\n",
       "      <td>0</td>\n",
       "      <td>Female</td>\n",
       "      <td>0</td>\n",
       "      <td>1</td>\n",
       "      <td>1</td>\n",
       "      <td>9</td>\n",
       "      <td>1</td>\n",
       "      <td>0</td>\n",
       "      <td>DSL</td>\n",
       "      <td>0</td>\n",
       "      <td>1</td>\n",
       "      <td>0</td>\n",
       "      <td>1</td>\n",
       "      <td>1</td>\n",
       "      <td>0</td>\n",
       "      <td>One year</td>\n",
       "      <td>1</td>\n",
       "      <td>Mailed check</td>\n",
       "      <td>65.6</td>\n",
       "      <td>593.3</td>\n",
       "    </tr>\n",
       "    <tr>\n",
       "      <th>1</th>\n",
       "      <td>0003-MKNFE</td>\n",
       "      <td>0</td>\n",
       "      <td>Male</td>\n",
       "      <td>0</td>\n",
       "      <td>0</td>\n",
       "      <td>0</td>\n",
       "      <td>9</td>\n",
       "      <td>1</td>\n",
       "      <td>1</td>\n",
       "      <td>DSL</td>\n",
       "      <td>0</td>\n",
       "      <td>0</td>\n",
       "      <td>0</td>\n",
       "      <td>0</td>\n",
       "      <td>0</td>\n",
       "      <td>1</td>\n",
       "      <td>Month-to-month</td>\n",
       "      <td>0</td>\n",
       "      <td>Mailed check</td>\n",
       "      <td>59.9</td>\n",
       "      <td>542.4</td>\n",
       "    </tr>\n",
       "  </tbody>\n",
       "</table>\n",
       "</div>"
      ],
      "text/plain": [
       "   customerID  Churn  gender  SeniorCitizen  Partner  Dependents  tenure  \\\n",
       "0  0002-ORFBO      0  Female              0        1           1       9   \n",
       "1  0003-MKNFE      0    Male              0        0           0       9   \n",
       "\n",
       "   PhoneService  MultipleLines InternetService  OnlineSecurity  OnlineBackup  \\\n",
       "0             1              0             DSL               0             1   \n",
       "1             1              1             DSL               0             0   \n",
       "\n",
       "   DeviceProtection  TechSupport  StreamingTV  StreamingMovies  \\\n",
       "0                 0            1            1                0   \n",
       "1                 0            0            0                1   \n",
       "\n",
       "         Contract  PaperlessBilling PaymentMethod  Charges.Monthly  \\\n",
       "0        One year                 1  Mailed check             65.6   \n",
       "1  Month-to-month                 0  Mailed check             59.9   \n",
       "\n",
       "  Charges.Total  \n",
       "0         593.3  \n",
       "1         542.4  "
      ]
     },
     "execution_count": 43,
     "metadata": {},
     "output_type": "execute_result"
    }
   ],
   "source": [
    "#Verificando como ficou o dataset\n",
    "TelecomX.head(2)"
   ]
  },
  {
   "cell_type": "markdown",
   "id": "944f79e0",
   "metadata": {},
   "source": [
    "# Análise dos dados e visualização"
   ]
  },
  {
   "cell_type": "markdown",
   "id": "1300cef6",
   "metadata": {},
   "source": [
    "Contagem absoluta de churn por faixa etária (idosos vs não-idosos)"
   ]
  },
  {
   "cell_type": "code",
   "execution_count": 55,
   "id": "f6fc98a8",
   "metadata": {},
   "outputs": [
    {
     "name": "stdout",
     "output_type": "stream",
     "text": [
      "Idosos que cancelaram: 476\n",
      "Idosos que não cancelaram: 666\n",
      "Não-idosos que cancelaram: 1393\n",
      "Não-idosos que não cancelaram: 4508\n",
      "\n",
      "Porcentagem de idosos que cancelaram: 41.68%\n",
      "Porcentagem de idosos que não cancelaram: 58.32%\n",
      "Porcentagem de não-idosos que cancelaram: 23.61%\n",
      "Porcentagem de não-idosos que não cancelaram: 76.39%\n"
     ]
    }
   ],
   "source": [
    "#Filtros para análise cancelamento idosos\n",
    "idosos_cancelaram = TelecomX[(TelecomX['SeniorCitizen'] == 1) & (TelecomX['Churn'] == 1)].shape[0]\n",
    "idosos_nao_cancelaram = TelecomX[(TelecomX['SeniorCitizen'] == 1) & (TelecomX['Churn'] == 0)].shape[0]\n",
    "nao_idosos_cancelaram = TelecomX[(TelecomX['SeniorCitizen'] == 0) & (TelecomX['Churn'] == 1)].shape[0]\n",
    "nao_idosos_nao_cancelaram = TelecomX[(TelecomX['SeniorCitizen'] == 0) & (TelecomX['Churn'] == 0)].shape[0]\n",
    "\n",
    "# Print dos resultados\n",
    "print(f'Idosos que cancelaram: {idosos_cancelaram}')\n",
    "print(f'Idosos que não cancelaram: {idosos_nao_cancelaram}')\n",
    "print(f'Não-idosos que cancelaram: {nao_idosos_cancelaram}')\n",
    "print(f'Não-idosos que não cancelaram: {nao_idosos_nao_cancelaram}')\n",
    "print()\n",
    "\n",
    "\n",
    "# Conta o total de idosos (independente de terem cancelado ou não)\n",
    "# Total de idosos\n",
    "total_idosos = TelecomX[TelecomX['SeniorCitizen'] == 1].shape[0]\n",
    "# Total de não-idosos\n",
    "total_nao_idosos = TelecomX[TelecomX['SeniorCitizen'] == 0].shape[0]\n",
    "# Porcentagem de idosos que cancelaram\n",
    "porcentagem_idosos_cancelaram = (idosos_cancelaram / total_idosos) * 100\n",
    "# Porcentagem de idosos que não cancelaram\n",
    "porcentagem_idosos_nao_cancelaram = (idosos_nao_cancelaram / total_idosos) * 100\n",
    "# Porcentagem de não-idosos que cancelaram\n",
    "porcentagem_nao_idosos_cancelaram = (nao_idosos_cancelaram / total_nao_idosos) * 100\n",
    "# Porcentagem de não-idosos que não cancelaram\n",
    "porcentagem_nao_idosos_nao_cancelaram = (nao_idosos_nao_cancelaram / total_nao_idosos) * 100\n",
    "\n",
    "# Print dos resultados\n",
    "print(f'Porcentagem de idosos que cancelaram: {porcentagem_idosos_cancelaram:.2f}%')\n",
    "print(f'Porcentagem de idosos que não cancelaram: {porcentagem_idosos_nao_cancelaram:.2f}%')\n",
    "print(f'Porcentagem de não-idosos que cancelaram: {porcentagem_nao_idosos_cancelaram:.2f}%')\n",
    "print(f'Porcentagem de não-idosos que não cancelaram: {porcentagem_nao_idosos_nao_cancelaram:.2f}%')\n",
    "\n"
   ]
  },
  {
   "cell_type": "code",
   "execution_count": 80,
   "id": "d8ef17cf",
   "metadata": {},
   "outputs": [
    {
     "data": {
      "image/png": "[encoded data removed]",
      "text/plain": [
       "<Figure size 640x480 with 1 Axes>"
      ]
     },
     "metadata": {},
     "output_type": "display_data"
    }
   ],
   "source": [
    "# SeniorCitizen x Churn\n",
    "sns.countplot(data=TelecomX, x='SeniorCitizen', hue='Churn')\n",
    "# Título\n",
    "plt.title('SeniorCitizen x Churn')\n",
    "# Ajusta o layout para garantir que nada seja cortado\n",
    "plt.tight_layout()\n",
    "plt.show()"
   ]
  },
  {
   "cell_type": "raw",
   "id": "77233d60",
   "metadata": {},
   "source": [
    "A taxa de cancelamento entre clientes idosos (41,68%) é significativamente maior que entre não-idosos (23,61%). Isso pode estar relacionado a fatores como idade avançada, falecimento, mudança de rotina ou menor uso de serviços digitais — e não necessariamente à insatisfação com a empresa. Estratégias específicas para esse público, como planos simplificados e atendimento personalizado, podem ajudar na retenção."
   ]
  },
  {
   "cell_type": "markdown",
   "id": "89927a7f",
   "metadata": {},
   "source": [
    "Análise por formas de pagamento"
   ]
  },
  {
   "cell_type": "code",
   "execution_count": 63,
   "id": "b963298c",
   "metadata": {},
   "outputs": [
    {
     "name": "stdout",
     "output_type": "stream",
     "text": [
      "Mailed check - Cancelaram: 308\n",
      "Mailed check - Não cancelaram: 1304\n",
      "Electronic check - Cancelaram: 1071\n",
      "Electronic check - Não cancelaram: 1294\n",
      "Credit card (automatic) - Cancelaram: 232\n",
      "Credit card (automatic) - Não cancelaram: 1290\n",
      "Bank transfer (automatic) - Cancelaram: 258\n",
      "Bank transfer (automatic) - Não cancelaram: 1286\n",
      "\n",
      "Porcentagem que cancelaram (Mailed check): 19.11%\n",
      "Porcentagem que não cancelaram (Mailed check): 80.89%\n",
      "Porcentagem que cancelaram (Electronic check): 45.29%\n",
      "Porcentagem que não cancelaram (Electronic check): 54.71%\n",
      "Porcentagem que cancelaram (Credit card automatic): 15.24%\n",
      "Porcentagem que não cancelaram (Credit card automatic): 84.76%\n",
      "Porcentagem que cancelaram (Bank transfer automatic): 16.71%\n",
      "Porcentagem que não cancelaram (Bank transfer automatic): 83.29%\n"
     ]
    }
   ],
   "source": [
    "# Soma de clientes que cancelaram por método de pagamento\n",
    "mailed_check_cancelaram = TelecomX[(TelecomX['PaymentMethod'] == 'Mailed check') & (TelecomX['Churn'] == True)].shape[0]\n",
    "electronic_check_cancelaram = TelecomX[(TelecomX['PaymentMethod'] == 'Electronic check') & (TelecomX['Churn'] == True)].shape[0]\n",
    "credit_card_cancelaram = TelecomX[(TelecomX['PaymentMethod'] == 'Credit card (automatic)') & (TelecomX['Churn'] == True)].shape[0]\n",
    "bank_transfer_cancelaram = TelecomX[(TelecomX['PaymentMethod'] == 'Bank transfer (automatic)') & (TelecomX['Churn'] == True)].shape[0]\n",
    "\n",
    "# Soma de clientes que não cancelaram por método de pagamento\n",
    "mailed_check_nao_cancelaram = TelecomX[(TelecomX['PaymentMethod'] == 'Mailed check') & (TelecomX['Churn'] == False)].shape[0]\n",
    "electronic_check_nao_cancelaram = TelecomX[(TelecomX['PaymentMethod'] == 'Electronic check') & (TelecomX['Churn'] == False)].shape[0]\n",
    "credit_card_nao_cancelaram = TelecomX[(TelecomX['PaymentMethod'] == 'Credit card (automatic)') & (TelecomX['Churn'] == False)].shape[0]\n",
    "bank_transfer_nao_cancelaram = TelecomX[(TelecomX['PaymentMethod'] == 'Bank transfer (automatic)') & (TelecomX['Churn'] == False)].shape[0]\n",
    "\n",
    "# Print dos resultados absolutos\n",
    "print(f'Mailed check - Cancelaram: {mailed_check_cancelaram}')\n",
    "print(f'Mailed check - Não cancelaram: {mailed_check_nao_cancelaram}')\n",
    "print(f'Electronic check - Cancelaram: {electronic_check_cancelaram}')\n",
    "print(f'Electronic check - Não cancelaram: {electronic_check_nao_cancelaram}')\n",
    "print(f'Credit card (automatic) - Cancelaram: {credit_card_cancelaram}')\n",
    "print(f'Credit card (automatic) - Não cancelaram: {credit_card_nao_cancelaram}')\n",
    "print(f'Bank transfer (automatic) - Cancelaram: {bank_transfer_cancelaram}')\n",
    "print(f'Bank transfer (automatic) - Não cancelaram: {bank_transfer_nao_cancelaram}')\n",
    "print()\n",
    "\n",
    "# Totais por método\n",
    "total_mailed = TelecomX[TelecomX['PaymentMethod'] == 'Mailed check'].shape[0]\n",
    "total_electronic = TelecomX[TelecomX['PaymentMethod'] == 'Electronic check'].shape[0]\n",
    "total_credit = TelecomX[TelecomX['PaymentMethod'] == 'Credit card (automatic)'].shape[0]\n",
    "total_bank = TelecomX[TelecomX['PaymentMethod'] == 'Bank transfer (automatic)'].shape[0]\n",
    "\n",
    "# Porcentagens por método\n",
    "porcentagem_mailed_cancelaram = (mailed_check_cancelaram / total_mailed) * 100\n",
    "porcentagem_mailed_nao_cancelaram = (mailed_check_nao_cancelaram / total_mailed) * 100\n",
    "\n",
    "porcentagem_electronic_cancelaram = (electronic_check_cancelaram / total_electronic) * 100\n",
    "porcentagem_electronic_nao_cancelaram = (electronic_check_nao_cancelaram / total_electronic) * 100\n",
    "\n",
    "porcentagem_credit_cancelaram = (credit_card_cancelaram / total_credit) * 100\n",
    "porcentagem_credit_nao_cancelaram = (credit_card_nao_cancelaram / total_credit) * 100\n",
    "\n",
    "porcentagem_bank_cancelaram = (bank_transfer_cancelaram / total_bank) * 100\n",
    "porcentagem_bank_nao_cancelaram = (bank_transfer_nao_cancelaram / total_bank) * 100\n",
    "\n",
    "# Print das porcentagens\n",
    "print(f'Porcentagem que cancelaram (Mailed check): {porcentagem_mailed_cancelaram:.2f}%')\n",
    "print(f'Porcentagem que não cancelaram (Mailed check): {porcentagem_mailed_nao_cancelaram:.2f}%')\n",
    "print(f'Porcentagem que cancelaram (Electronic check): {porcentagem_electronic_cancelaram:.2f}%')\n",
    "print(f'Porcentagem que não cancelaram (Electronic check): {porcentagem_electronic_nao_cancelaram:.2f}%')\n",
    "print(f'Porcentagem que cancelaram (Credit card automatic): {porcentagem_credit_cancelaram:.2f}%')\n",
    "print(f'Porcentagem que não cancelaram (Credit card automatic): {porcentagem_credit_nao_cancelaram:.2f}%')\n",
    "print(f'Porcentagem que cancelaram (Bank transfer automatic): {porcentagem_bank_cancelaram:.2f}%')\n",
    "print(f'Porcentagem que não cancelaram (Bank transfer automatic): {porcentagem_bank_nao_cancelaram:.2f}%')\n"
   ]
  },
  {
   "cell_type": "code",
   "execution_count": 76,
   "id": "bc315424",
   "metadata": {},
   "outputs": [
    {
     "data": {
      "image/png": "[encoded data removed]",
      "text/plain": [
       "<Figure size 640x480 with 1 Axes>"
      ]
     },
     "metadata": {},
     "output_type": "display_data"
    }
   ],
   "source": [
    "# PaymentMethod x Churn\n",
    "sns.countplot(data=TelecomX, x='PaymentMethod', hue='Churn')\n",
    "# Título\n",
    "plt.title('PaymentMethod x Churn')\n",
    "# Rotaciona os rótulos do eixo X\n",
    "plt.xticks(rotation=45, ha='right')\n",
    "# Ajusta o layout para garantir que nada seja cortado\n",
    "plt.tight_layout()\n",
    "plt.show()"
   ]
  },
  {
   "cell_type": "raw",
   "id": "b69c3e3d",
   "metadata": {},
   "source": [
    "Os Electronic check representam a principal causa de cancelamento, com uma taxa de 45.29% e o maior volume de clientes que cancelaram (1071). Em contraste, os métodos Credit card (automatic) e Bank transfer (automatic) demonstram maior retenção, registrando as menores porcentagens que cancelaram (15.24% e 16.71% respectivamente). Os Mailed check apresentam uma taxa intermediária de cancelamento, com 19.11%.\n",
    "\n",
    "Para melhorar, incentive a migração para métodos de pagamento automáticos, como Credit card (automatic) e Bank transfer (automatic), que comprovadamente resultam em maior lealdade do cliente."
   ]
  },
  {
   "cell_type": "code",
   "execution_count": 78,
   "id": "4c96c9af",
   "metadata": {},
   "outputs": [
    {
     "name": "stdout",
     "output_type": "stream",
     "text": [
      "One year - Cancelaram: 166\n",
      "One year - Não cancelaram: 1307\n",
      "Month-to-month - Cancelaram: 1655\n",
      "Month-to-month - Não cancelaram: 2220\n",
      "Two year - Cancelaram: 48\n",
      "Two year - Não cancelaram: 1647\n",
      "\n",
      "Porcentagem que cancelaram (One year): 11.27%\n",
      "Porcentagem que não cancelaram (One year): 88.73%\n",
      "Porcentagem que cancelaram (Month-to-month): 42.71%\n",
      "Porcentagem que não cancelaram (Month-to-month): 57.29%\n",
      "Porcentagem que cancelaram (Two year): 2.83%\n",
      "Porcentagem que não cancelaram (Two year): 97.17%\n"
     ]
    }
   ],
   "source": [
    "# Soma de clientes que cancelaram por tipo de contrato\n",
    "one_year_cancelaram = TelecomX[(TelecomX['Contract'] == 'One year') & (TelecomX['Churn'] == True)].shape[0]\n",
    "month_to_month_cancelaram = TelecomX[(TelecomX['Contract'] == 'Month-to-month') & (TelecomX['Churn'] == True)].shape[0]\n",
    "two_year_cancelaram = TelecomX[(TelecomX['Contract'] == 'Two year') & (TelecomX['Churn'] == True)].shape[0]\n",
    "\n",
    "# Soma de clientes que não cancelaram por tipo de contrato\n",
    "one_year_nao_cancelaram = TelecomX[(TelecomX['Contract'] == 'One year') & (TelecomX['Churn'] == False)].shape[0]\n",
    "month_to_month_nao_cancelaram = TelecomX[(TelecomX['Contract'] == 'Month-to-month') & (TelecomX['Churn'] == False)].shape[0]\n",
    "two_year_nao_cancelaram = TelecomX[(TelecomX['Contract'] == 'Two year') & (TelecomX['Churn'] == False)].shape[0]\n",
    "\n",
    "# Print dos resultados absolutos\n",
    "print(f'One year - Cancelaram: {one_year_cancelaram}')\n",
    "print(f'One year - Não cancelaram: {one_year_nao_cancelaram}')\n",
    "print(f'Month-to-month - Cancelaram: {month_to_month_cancelaram}')\n",
    "print(f'Month-to-month - Não cancelaram: {month_to_month_nao_cancelaram}')\n",
    "print(f'Two year - Cancelaram: {two_year_cancelaram}')\n",
    "print(f'Two year - Não cancelaram: {two_year_nao_cancelaram}')\n",
    "print()\n",
    "\n",
    "# Totais por tipo de contrato\n",
    "total_one_year = TelecomX[TelecomX['Contract'] == 'One year'].shape[0]\n",
    "total_month_to_month = TelecomX[TelecomX['Contract'] == 'Month-to-month'].shape[0]\n",
    "total_two_year = TelecomX[TelecomX['Contract'] == 'Two year'].shape[0]\n",
    "\n",
    "# Porcentagens por tipo de contrato\n",
    "porcentagem_one_year_cancelaram = (one_year_cancelaram / total_one_year) * 100\n",
    "porcentagem_one_year_nao_cancelaram = (one_year_nao_cancelaram / total_one_year) * 100\n",
    "\n",
    "porcentagem_month_to_month_cancelaram = (month_to_month_cancelaram / total_month_to_month) * 100\n",
    "porcentagem_month_to_month_nao_cancelaram = (month_to_month_nao_cancelaram / total_month_to_month) * 100\n",
    "\n",
    "porcentagem_two_year_cancelaram = (two_year_cancelaram / total_two_year) * 100\n",
    "porcentagem_two_year_nao_cancelaram = (two_year_nao_cancelaram / total_two_year) * 100\n",
    "\n",
    "# Print das porcentagens\n",
    "print(f'Porcentagem que cancelaram (One year): {porcentagem_one_year_cancelaram:.2f}%')\n",
    "print(f'Porcentagem que não cancelaram (One year): {porcentagem_one_year_nao_cancelaram:.2f}%')\n",
    "print(f'Porcentagem que cancelaram (Month-to-month): {porcentagem_month_to_month_cancelaram:.2f}%')\n",
    "print(f'Porcentagem que não cancelaram (Month-to-month): {porcentagem_month_to_month_nao_cancelaram:.2f}%')\n",
    "print(f'Porcentagem que cancelaram (Two year): {porcentagem_two_year_cancelaram:.2f}%')\n",
    "print(f'Porcentagem que não cancelaram (Two year): {porcentagem_two_year_nao_cancelaram:.2f}%')"
   ]
  },
  {
   "cell_type": "code",
   "execution_count": 107,
   "id": "7bc5da69",
   "metadata": {},
   "outputs": [
    {
     "data": {
      "image/png": "[encoded data removed]",
      "text/plain": [
       "<Figure size 640x480 with 1 Axes>"
      ]
     },
     "metadata": {},
     "output_type": "display_data"
    }
   ],
   "source": [
    "# Contract x Churn\n",
    "sns.countplot(data=TelecomX, x='Contract', hue='Churn')\n",
    "# Título\n",
    "plt.title('Contract x Churn')\n",
    "# Rotaciona os rótulos do eixo X\n",
    "plt.xticks(rotation=45, ha='right')\n",
    "# Ajusta o layout para garantir que nada seja cortado\n",
    "plt.tight_layout()\n",
    "plt.show()"
   ]
  },
  {
   "cell_type": "raw",
   "id": "a4fdcfe6",
   "metadata": {},
   "source": [
    "A análise dos métodos de pagamento revelou diferenças significativas nas taxas de cancelamento (churn) entre os clientes. Observou-se que o método \"Electronic check\" apresenta a maior taxa de cancelamento, indicando um possível perfil de cliente menos fidelizado ou mais sensível a questões de serviço ou preço. Isso sugere que esse grupo pode demandar ações específicas de retenção, como ofertas personalizadas ou melhorias no atendimento.\n",
    "\n",
    "Por outro lado, os clientes que utilizam pagamentos automáticos, como \"Credit card (automatic)\" e \"Bank transfer (automatic)\", demonstram menor propensão ao cancelamento. Isso pode refletir um maior engajamento, confiança na empresa e planejamento financeiro. Incentivar esses métodos de pagamento pode ser uma estratégia eficaz para reduzir o churn.\n",
    "\n",
    "O método \"Mailed check\" apresentou taxas intermediárias, possivelmente associado a um público mais tradicional. Embora não seja o grupo mais propenso ao churn, ainda pode se beneficiar de ações informativas sobre as vantagens dos pagamentos automáticos.\n",
    "\n",
    "Em resumo, o tipo de pagamento utilizado pelo cliente pode ser um indicativo importante do seu nível de fidelização, sendo uma variável estratégica para programas de retenção e personalização de ofertas."
   ]
  },
  {
   "cell_type": "markdown",
   "id": "b9fd0fd8",
   "metadata": {},
   "source": [
    "# Visualização dos dados"
   ]
  },
  {
   "cell_type": "code",
   "execution_count": 53,
   "id": "dbccc659",
   "metadata": {},
   "outputs": [
    {
     "data": {
      "image/png": "[encoded data removed]",
      "text/plain": [
       "<Figure size 640x480 with 1 Axes>"
      ]
     },
     "metadata": {},
     "output_type": "display_data"
    }
   ],
   "source": [
    "# Distribuição de Churn em porcentagem\n",
    "churn_percent = TelecomX['Churn'].value_counts(normalize=True) * 100\n",
    "\n",
    "# Plotando o gráfico\n",
    "ax = churn_percent.plot(kind='bar', color=['skyblue', 'salmon'])\n",
    "\n",
    "plt.title('Distribuição de Churn (%)')\n",
    "plt.xlabel('Churn')\n",
    "plt.ylabel('Porcentagem de Clientes')\n",
    "plt.xticks(rotation=0)\n",
    "plt.grid(axis='y', linestyle='--', alpha=0.7)\n",
    "\n",
    "# Adicionar texto em cima de cada barra\n",
    "for i, value in enumerate(churn_percent):\n",
    "    plt.text(i, value + 1, f'{value:.1f}%', ha='center', va='bottom', fontsize=10)\n",
    "\n",
    "plt.tight_layout()\n",
    "plt.show()\n"
   ]
  },
  {
   "cell_type": "code",
   "execution_count": 84,
   "id": "1393cdb8",
   "metadata": {},
   "outputs": [
    {
     "data": {
      "image/png": "[encoded data removed]",
      "text/plain": [
       "<Figure size 640x480 with 1 Axes>"
      ]
     },
     "metadata": {},
     "output_type": "display_data"
    }
   ],
   "source": [
    "# Análise do tempo de contrato (tenure)\n",
    "sns.histplot(TelecomX['tenure'], bins=30, kde=True)\n",
    "plt.title(\"Distribuição do Tempo de Contrato (tenure)\")\n",
    "plt.show()\n"
   ]
  },
  {
   "cell_type": "code",
   "execution_count": 46,
   "id": "8697cf51",
   "metadata": {},
   "outputs": [],
   "source": [
    "TelecomX.to_excel(\"TelecomX_limpo.xlsx\", index=False)\n"
   ]
  }
 ],
 "metadata": {
  "kernelspec": {
   "display_name": "Python 3 (ipykernel)",
   "language": "python",
   "name": "python3"
  },
  "language_info": {
   "codemirror_mode": {
    "name": "ipython",
    "version": 3
   },
   "file_extension": ".py",
   "mimetype": "text/x-python",
   "name": "python",
   "nbconvert_exporter": "python",
   "pygments_lexer": "ipython3",
   "version": "3.9.13"
  },
  "varInspector": {
   "cols": {
    "lenName": 16,
    "lenType": 16,
    "lenVar": 40
   },
   "kernels_config": {
    "python": {
     "delete_cmd_postfix": "",
     "delete_cmd_prefix": "del ",
     "library": "var_list.py",
     "varRefreshCmd": "print(var_dic_list())"
    },
    "r": {
     "delete_cmd_postfix": ") ",
     "delete_cmd_prefix": "rm(",
     "library": "var_list.r",
     "varRefreshCmd": "cat(var_dic_list()) "
    }
   },
   "types_to_exclude": [
    "module",
    "function",
    "builtin_function_or_method",
    "instance",
    "_Feature"
   ],
   "window_display": false
  }
 },
 "nbformat": 4,
 "nbformat_minor": 5
}
